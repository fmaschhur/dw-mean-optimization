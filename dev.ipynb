{
 "cells": [
  {
   "cell_type": "code",
   "execution_count": null,
   "metadata": {},
   "outputs": [],
   "source": [
    "import os\n",
    "import numpy as np\n",
    "import pandas as pd\n",
    "from dtw_mean import ssg"
   ]
  },
  {
   "cell_type": "code",
   "execution_count": null,
   "metadata": {},
   "outputs": [],
   "source": [
    "DATA_BASE_DIR = \"/Users/Max/Documents/datasets/UCRArchive_2018/\"\n",
    "\n",
    "DATASET= \"Coffe\"\n"
   ]
  },
  {
   "cell_type": "code",
   "execution_count": null,
   "metadata": {},
   "outputs": [],
   "source": [
    "def load_dataset():\n",
    "    dataset_dir = os.path.join(DATA_BASE_DIR, DATASET)\n",
    "    dfs = []\n",
    "    for file in os.listdir(dataset_dir):\n",
    "        if file.endswith(\".tsv\"):\n",
    "            file_path = os.path.join(dataset_dir, file)\n",
    "            dfs.append(pd.read_csv(file_path, sep=\"\\t\", header=None))\n",
    "    \n",
    "    return pd.concat(dfs)"
   ]
  },
  {
   "cell_type": "code",
   "execution_count": null,
   "metadata": {},
   "outputs": [],
   "source": [
    "df = load_dataset()\n",
    "display(df)"
   ]
  },
  {
   "cell_type": "code",
   "execution_count": null,
   "metadata": {},
   "outputs": [],
   "source": [
    "# convert dataframe to numpy array of right shape\n",
    "def df_to_np(df):\n",
    "    np_array = df.to_numpy()\n",
    "    return np.reshape(np_array, (np_array.shape[0], np_array.shape[1], 1))\n",
    "    "
   ]
  },
  {
   "cell_type": "code",
   "execution_count": null,
   "metadata": {},
   "outputs": [],
   "source": [
    "# ssg(X, n_epochs=None, eta=None, init_sequence=None, return_f=False):\n",
    "# Inputs\n",
    "# X is a 3-dim matrix consisting of possibli multivariate time series.\n",
    "#   dim 1 runs over the sample time series\n",
    "#   dim 2 runs over the length of a time series\n",
    "#   dim 3 runs over the dimension of the datapoints of a time series\n",
    "#\n",
    "# Optional Inputs\n",
    "# n_epochs        is the number of epochs\n",
    "# eta             is a vector of step sizes, eta(i) is used in the i-th update\n",
    "# init_sequence   if None  --> use a random sample of X\n",
    "#                 if > 0   --> use X[init_sequence]\n",
    "#                 if <= 0  --> use medoid of X\n",
    "#                 if it is a time series --> use it\n",
    "# return_f        if True  --> Frechet variations for each epoch are returned\n",
    "#\n",
    "# Outputs\n",
    "# z               the solution found by SSG (an approximate sample mean under dynamic time warping)\n",
    "# f               Vector of Frechet variations. Is only returned if return_f=True\n",
    "\n",
    "X = df_to_np(df)\n",
    "results = ssg(X, n_epochs=1, return_f=True)\n"
   ]
  },
  {
   "cell_type": "code",
   "execution_count": null,
   "metadata": {},
   "outputs": [],
   "source": [
    "results.shape"
   ]
  },
  {
   "cell_type": "code",
   "execution_count": null,
   "metadata": {},
   "outputs": [],
   "source": []
  }
 ],
 "metadata": {
  "language_info": {
   "codemirror_mode": {
    "name": "ipython",
    "version": 3
   },
   "file_extension": ".py",
   "mimetype": "text/x-python",
   "name": "python",
   "nbconvert_exporter": "python",
   "pygments_lexer": "ipython3",
   "version": "3.6.8-final"
  },
  "orig_nbformat": 2,
  "kernelspec": {
   "name": "python3",
   "display_name": "Python 3"
  }
 },
 "nbformat": 4,
 "nbformat_minor": 2
}