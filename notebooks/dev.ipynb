{
 "cells": [
  {
   "cell_type": "code",
   "execution_count": 1,
   "metadata": {},
   "outputs": [
    {
     "ename": "ModuleNotFoundError",
     "evalue": "No module named 'dtw_mean'",
     "output_type": "error",
     "traceback": [
      "\u001b[0;31m---------------------------------------------------------------------------\u001b[0m",
      "\u001b[0;31mModuleNotFoundError\u001b[0m                       Traceback (most recent call last)",
      "\u001b[0;32m<ipython-input-1-998688b1ab4f>\u001b[0m in \u001b[0;36m<module>\u001b[0;34m\u001b[0m\n\u001b[1;32m      2\u001b[0m \u001b[0;32mimport\u001b[0m \u001b[0mnumpy\u001b[0m \u001b[0;32mas\u001b[0m \u001b[0mnp\u001b[0m\u001b[0;34m\u001b[0m\u001b[0;34m\u001b[0m\u001b[0m\n\u001b[1;32m      3\u001b[0m \u001b[0;32mimport\u001b[0m \u001b[0mpandas\u001b[0m \u001b[0;32mas\u001b[0m \u001b[0mpd\u001b[0m\u001b[0;34m\u001b[0m\u001b[0;34m\u001b[0m\u001b[0m\n\u001b[0;32m----> 4\u001b[0;31m \u001b[0;32mfrom\u001b[0m \u001b[0mdtw_mean\u001b[0m \u001b[0;32mimport\u001b[0m \u001b[0mssg\u001b[0m\u001b[0;34m\u001b[0m\u001b[0;34m\u001b[0m\u001b[0m\n\u001b[0m",
      "\u001b[0;31mModuleNotFoundError\u001b[0m: No module named 'dtw_mean'"
     ]
    }
   ],
   "source": [
    "import os\n",
    "import numpy as np\n",
    "import pandas as pd\n",
    "from dtw_mean import ssg"
   ]
  },
  {
   "cell_type": "code",
   "execution_count": 2,
   "metadata": {},
   "outputs": [],
   "source": [
    "DATA_BASE_DIR = \"/Users/Max/Documents/datasets/UCRArchive_2018/\"\n",
    "\n",
    "DATASET= \"Coffe\"\n"
   ]
  },
  {
   "cell_type": "code",
   "execution_count": null,
   "metadata": {},
   "outputs": [],
   "source": [
    "def load_dataset():\n",
    "    dataset_dir = os.path.join(DATA_BASE_DIR, DATASET)\n",
    "    dfs = []\n",
    "    for file in os.listdir(dataset_dir):\n",
    "        if file.endswith(\".tsv\"):\n",
    "            file_path = os.path.join(dataset_dir, file)\n",
    "            dfs.append(pd.read_csv(file_path, sep=\"\\t\", header=None))\n",
    "    \n",
    "    return pd.concat(dfs)"
   ]
  },
  {
   "cell_type": "code",
   "execution_count": null,
   "metadata": {},
   "outputs": [],
   "source": [
    "df = load_dataset()\n",
    "display(df)"
   ]
  },
  {
   "cell_type": "code",
   "execution_count": null,
   "metadata": {},
   "outputs": [],
   "source": [
    "# convert dataframe to numpy array of right shape\n",
    "def df_to_np(df):\n",
    "    np_array = df.to_numpy()\n",
    "    return np.reshape(np_array, (np_array.shape[0], np_array.shape[1], 1))\n",
    "    "
   ]
  },
  {
   "cell_type": "code",
   "execution_count": null,
   "metadata": {},
   "outputs": [],
   "source": [
    "# ssg(X, n_epochs=None, eta=None, init_sequence=None, return_f=False):\n",
    "# Inputs\n",
    "# X is a 3-dim matrix consisting of possibli multivariate time series.\n",
    "#   dim 1 runs over the sample time series\n",
    "#   dim 2 runs over the length of a time series\n",
    "#   dim 3 runs over the dimension of the datapoints of a time series\n",
    "#\n",
    "# Optional Inputs\n",
    "# n_epochs        is the number of epochs\n",
    "# eta             is a vector of step sizes, eta(i) is used in the i-th update\n",
    "# init_sequence   if None  --> use a random sample of X\n",
    "#                 if > 0   --> use X[init_sequence]\n",
    "#                 if <= 0  --> use medoid of X\n",
    "#                 if it is a time series --> use it\n",
    "# return_f        if True  --> Frechet variations for each epoch are returned\n",
    "#\n",
    "# Outputs\n",
    "# z               the solution found by SSG (an approximate sample mean under dynamic time warping)\n",
    "# f               Vector of Frechet variations. Is only returned if return_f=True\n",
    "\n",
    "X = df_to_np(df)\n",
    "results = ssg(X, n_epochs=1, return_f=True)\n"
   ]
  },
  {
   "cell_type": "code",
   "execution_count": null,
   "metadata": {},
   "outputs": [],
   "source": [
    "results.shape"
   ]
  },
  {
   "cell_type": "code",
   "execution_count": 25,
   "metadata": {},
   "outputs": [],
   "source": [
    "datatsets = [\"FiftyWords\", \"Adiac\", \"Beef\", \"CBF\", \"ChlorineConcentration\", \"Coffee\", \"ECG200\", \"ECG5000\", \"ElectricDevices\", \"FaceAll\", \"FaceFour\", \"FISH\", \"Gun_Point\", \"Lighting2\", \"Lighting7\", \"OliveOil\", \"OSULeaf\", \"PhalangesOutlinesCorrect\", \"SwedishLeaf\", \"SyntheticControl\", \"Trace\", \"TwoPatterns\", \"Wafer\", \"Yoga\"]\n",
    "datasets_corrected = [\"FiftyWords\", \"Adiac\", \"Beef\", \"CBF\", \"ChlorineConcentration\", \"Coffee\", \"ECG200\", \"ECG5000\", \"ElectricDevices\", \"FaceAll\", \"FaceFour\", \"Fish\", \"GunPoint\", \"Lightning2\", \"Lightning7\", \"OliveOil\", \"OSULeaf\", \"PhalangesOutlinesCorrect\", \"SwedishLeaf\", \"SyntheticControl\", \"Trace\", \"TwoPatterns\", \"Wafer\", \"Yoga\"]\n",
    "datasets_corrected_remainder = [\"FiftyWords\", \"Adiac\", \"Beef\", \"CBF\", \"ChlorineConcentration\", \"ECG200\", \"ECG5000\", \"ElectricDevices\", \"FaceAll\", \"Fish\", \"GunPoint\", \"Lightning2\", \"Lightning7\", \"OSULeaf\", \"PhalangesOutlinesCorrect\", \"SwedishLeaf\", \"SyntheticControl\", \"Trace\", \"TwoPatterns\", \"Wafer\", \"Yoga\"]"
   ]
  },
  {
   "cell_type": "code",
   "execution_count": 26,
   "metadata": {},
   "outputs": [
    {
     "data": {
      "text/plain": [
       "['ACSF1',\n",
       " 'Adiac',\n",
       " 'AllGestureWiimoteX',\n",
       " 'AllGestureWiimoteY',\n",
       " 'AllGestureWiimoteZ',\n",
       " 'ArrowHead',\n",
       " 'BME',\n",
       " 'Beef',\n",
       " 'BeetleFly',\n",
       " 'BirdChicken',\n",
       " 'CBF',\n",
       " 'Car',\n",
       " 'Chinatown',\n",
       " 'ChlorineConcentration',\n",
       " 'CinCECGTorso',\n",
       " 'Coffee',\n",
       " 'Computers',\n",
       " 'CricketX',\n",
       " 'CricketY',\n",
       " 'CricketZ',\n",
       " 'Crop',\n",
       " 'DiatomSizeReduction',\n",
       " 'DistalPhalanxOutlineAgeGroup',\n",
       " 'DistalPhalanxOutlineCorrect',\n",
       " 'DistalPhalanxTW',\n",
       " 'DodgerLoopDay',\n",
       " 'DodgerLoopGame',\n",
       " 'DodgerLoopWeekend',\n",
       " 'ECG200',\n",
       " 'ECG5000',\n",
       " 'ECGFiveDays',\n",
       " 'EOGHorizontalSignal',\n",
       " 'EOGVerticalSignal',\n",
       " 'Earthquakes',\n",
       " 'ElectricDevices',\n",
       " 'EthanolLevel',\n",
       " 'FaceAll',\n",
       " 'FaceFour',\n",
       " 'FacesUCR',\n",
       " 'FiftyWords',\n",
       " 'Fish',\n",
       " 'FordA',\n",
       " 'FordB',\n",
       " 'FreezerRegularTrain',\n",
       " 'FreezerSmallTrain',\n",
       " 'Fungi',\n",
       " 'GestureMidAirD1',\n",
       " 'GestureMidAirD2',\n",
       " 'GestureMidAirD3',\n",
       " 'GesturePebbleZ1',\n",
       " 'GesturePebbleZ2',\n",
       " 'GunPoint',\n",
       " 'GunPointAgeSpan',\n",
       " 'GunPointMaleVersusFemale',\n",
       " 'GunPointOldVersusYoung',\n",
       " 'Ham',\n",
       " 'HandOutlines',\n",
       " 'Haptics',\n",
       " 'Herring',\n",
       " 'HouseTwenty',\n",
       " 'InlineSkate',\n",
       " 'InsectEPGRegularTrain',\n",
       " 'InsectEPGSmallTrain',\n",
       " 'InsectWingbeatSound',\n",
       " 'ItalyPowerDemand',\n",
       " 'LargeKitchenAppliances',\n",
       " 'Lightning2',\n",
       " 'Lightning7',\n",
       " 'Mallat',\n",
       " 'Meat',\n",
       " 'MedicalImages',\n",
       " 'MelbournePedestrian',\n",
       " 'MiddlePhalanxOutlineAgeGroup',\n",
       " 'MiddlePhalanxOutlineCorrect',\n",
       " 'MiddlePhalanxTW',\n",
       " 'Missing_value_and_variable_length_datasets_adjusted',\n",
       " 'MixedShapesRegularTrain',\n",
       " 'MixedShapesSmallTrain',\n",
       " 'MoteStrain',\n",
       " 'NonInvasiveFetalECGThorax1',\n",
       " 'NonInvasiveFetalECGThorax2',\n",
       " 'OSULeaf',\n",
       " 'OliveOil',\n",
       " 'PLAID',\n",
       " 'PhalangesOutlinesCorrect',\n",
       " 'Phoneme',\n",
       " 'PickupGestureWiimoteZ',\n",
       " 'PigAirwayPressure',\n",
       " 'PigArtPressure',\n",
       " 'PigCVP',\n",
       " 'Plane',\n",
       " 'PowerCons',\n",
       " 'ProximalPhalanxOutlineAgeGroup',\n",
       " 'ProximalPhalanxOutlineCorrect',\n",
       " 'ProximalPhalanxTW',\n",
       " 'RefrigerationDevices',\n",
       " 'Rock',\n",
       " 'ScreenType',\n",
       " 'SemgHandGenderCh2',\n",
       " 'SemgHandMovementCh2',\n",
       " 'SemgHandSubjectCh2',\n",
       " 'ShakeGestureWiimoteZ',\n",
       " 'ShapeletSim',\n",
       " 'ShapesAll',\n",
       " 'SmallKitchenAppliances',\n",
       " 'SmoothSubspace',\n",
       " 'SonyAIBORobotSurface1',\n",
       " 'SonyAIBORobotSurface2',\n",
       " 'StarLightCurves',\n",
       " 'Strawberry',\n",
       " 'SwedishLeaf',\n",
       " 'Symbols',\n",
       " 'SyntheticControl',\n",
       " 'ToeSegmentation1',\n",
       " 'ToeSegmentation2',\n",
       " 'Trace',\n",
       " 'TwoLeadECG',\n",
       " 'TwoPatterns',\n",
       " 'UMD',\n",
       " 'UWaveGestureLibraryAll',\n",
       " 'UWaveGestureLibraryX',\n",
       " 'UWaveGestureLibraryY',\n",
       " 'UWaveGestureLibraryZ',\n",
       " 'Wafer',\n",
       " 'Wine',\n",
       " 'WordSynonyms',\n",
       " 'Worms',\n",
       " 'WormsTwoClass',\n",
       " 'Yoga']"
      ]
     },
     "metadata": {},
     "output_type": "display_data"
    },
    {
     "data": {
      "text/plain": [
       "[]"
      ]
     },
     "metadata": {},
     "output_type": "display_data"
    }
   ],
   "source": [
    "# datatset_dirs = list(filter(os.path.isdir, os.listdir(DATA_BASE_DIR)))\n",
    "datatset_dirs = sorted(os.listdir(DATA_BASE_DIR))\n",
    "       \n",
    "fail_datasets = [dataset for dataset in datasets_corrected_remainder if dataset not in datatset_dirs]\n",
    "\n",
    "display(datatset_dirs)\n",
    "display(fail_datasets)"
   ]
  }
 ],
 "metadata": {
  "kernelspec": {
   "display_name": "Python 3",
   "language": "python",
   "name": "python3"
  },
  "language_info": {
   "codemirror_mode": {
    "name": "ipython",
    "version": 3
   },
   "file_extension": ".py",
   "mimetype": "text/x-python",
   "name": "python",
   "nbconvert_exporter": "python",
   "pygments_lexer": "ipython3",
   "version": "3.6.8"
  }
 },
 "nbformat": 4,
 "nbformat_minor": 2
}
